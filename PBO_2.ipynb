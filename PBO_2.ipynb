{
  "nbformat": 4,
  "nbformat_minor": 0,
  "metadata": {
    "colab": {
      "provenance": [],
      "authorship_tag": "ABX9TyOZfqzN+K0RaSVOgao0w6GD",
      "include_colab_link": true
    },
    "kernelspec": {
      "name": "python3",
      "display_name": "Python 3"
    },
    "language_info": {
      "name": "python"
    }
  },
  "cells": [
    {
      "cell_type": "markdown",
      "metadata": {
        "id": "view-in-github",
        "colab_type": "text"
      },
      "source": [
        "<a href=\"https://colab.research.google.com/github/Muhammad-Rizki-Akbar/pbo-2/blob/main/PBO_2.ipynb\" target=\"_parent\"><img src=\"https://colab.research.google.com/assets/colab-badge.svg\" alt=\"Open In Colab\"/></a>"
      ]
    },
    {
      "cell_type": "code",
      "execution_count": null,
      "metadata": {
        "id": "5gzOdVw4yN1U"
      },
      "outputs": [],
      "source": []
    },
    {
      "cell_type": "code",
      "source": [
        "class Mahasiswa:\n",
        "    def __init__(self, nama, nim):\n",
        "        self.nama = nama\n",
        "        self.nim = nim\n",
        "\n",
        "    def cetakkrs(self):\n",
        "        print(f\"mahasiswa atas nama ({self.nama} / {self.nim}) sudah mencetak krs.\")\n",
        "\n",
        "obj_mhs = Mahasiswa(\"Muhamad Rizki Akbar\", \"230705068\")\n",
        "obj_mhs.cetakkrs()"
      ],
      "metadata": {
        "colab": {
          "base_uri": "https://localhost:8080/"
        },
        "id": "ranNSidFeFO2",
        "outputId": "ef5e4b5c-b93a-49e1-97bf-2493e39e2c94"
      },
      "execution_count": 1,
      "outputs": [
        {
          "output_type": "stream",
          "name": "stdout",
          "text": [
            "mahasiswa atas nama (Muhamad Rizki Akbar / 230705068) sudah mencetak krs.\n"
          ]
        }
      ]
    },
    {
      "cell_type": "code",
      "source": [],
      "metadata": {
        "id": "qU1nM_jUysZV"
      },
      "execution_count": null,
      "outputs": []
    },
    {
      "cell_type": "code",
      "source": [
        "class Lingkaran:\n",
        "    def __init__(self, radius):\n",
        "        self.radius = radius\n",
        "\n",
        "    def buatlingkaran(self):\n",
        "        pi = 3.14\n",
        "        luas = pi * (self.radius ** 2)\n",
        "        print(f\"luas bulat tsb jika radiusnya {self.radius} adalah {luas:.2f}.\")\n",
        "\n",
        "obj_blt = Lingkaran(10)\n",
        "obj_blt.buatlingkaran()"
      ],
      "metadata": {
        "colab": {
          "base_uri": "https://localhost:8080/"
        },
        "id": "l9sUpErxfkBO",
        "outputId": "915a8fb2-cfc4-47bb-831d-5140c34d46d7"
      },
      "execution_count": 2,
      "outputs": [
        {
          "output_type": "stream",
          "name": "stdout",
          "text": [
            "luas bulat tsb jika radiusnya 10 adalah 314.00.\n"
          ]
        }
      ]
    },
    {
      "cell_type": "code",
      "source": [],
      "metadata": {
        "id": "i-J4cJu1y3EE"
      },
      "execution_count": null,
      "outputs": []
    },
    {
      "cell_type": "code",
      "source": [
        "class Persegi:\n",
        "    def __init__(self, sisi):\n",
        "        self.sisi = sisi\n",
        "\n",
        "    def hitungluas(self):\n",
        "        luas = self.sisi ** 3\n",
        "        print(f\"luas kotak jika setiap sisisnya {self.sisi} adalah {luas}.\")\n",
        "\n",
        "obj_kotak = Persegi(7)\n",
        "obj_kotak.hitungluas()"
      ],
      "metadata": {
        "colab": {
          "base_uri": "https://localhost:8080/"
        },
        "id": "VcwEt-S8geAH",
        "outputId": "f74b6bc7-ef0b-4ba0-d6b9-d76274f6a9bf"
      },
      "execution_count": 3,
      "outputs": [
        {
          "output_type": "stream",
          "name": "stdout",
          "text": [
            "luas kotak jika setiap sisisnya 7 adalah 343.\n"
          ]
        }
      ]
    },
    {
      "cell_type": "code",
      "source": [],
      "metadata": {
        "id": "gPYHKmOzzCIv"
      },
      "execution_count": null,
      "outputs": []
    },
    {
      "cell_type": "code",
      "source": [
        "class PersegiPanjang:\n",
        "    def __init__(self, panjang, lebar):\n",
        "        self.panjang = panjang\n",
        "        self.lebar = lebar\n",
        "\n",
        "    def hitung_luas(self):\n",
        "        luas = self.panjang * self.lebar\n",
        "        print(f\"luas laptop jika memiliki P : {self.panjang} dan L : {self.lebar} adalah {luas}.\")\n",
        "\n",
        "obj_laptop = PersegiPanjang(18, 12)\n",
        "obj_laptop.hitung_luas()"
      ],
      "metadata": {
        "colab": {
          "base_uri": "https://localhost:8080/"
        },
        "id": "_nM935xjh33-",
        "outputId": "72c60d0a-9d38-4ceb-fff9-f00e6e6de1ed"
      },
      "execution_count": 4,
      "outputs": [
        {
          "output_type": "stream",
          "name": "stdout",
          "text": [
            "luas laptop jika memiliki P : 18 dan L : 12 adalah 216.\n"
          ]
        }
      ]
    },
    {
      "cell_type": "code",
      "source": [],
      "metadata": {
        "id": "x-_kFnVXzYX4"
      },
      "execution_count": null,
      "outputs": []
    },
    {
      "cell_type": "code",
      "execution_count": 5,
      "metadata": {
        "colab": {
          "base_uri": "https://localhost:8080/"
        },
        "id": "xj4tVQc8d_0l",
        "outputId": "1a144bc6-e4a4-4e43-a025-6207fe290fa7"
      },
      "outputs": [
        {
          "output_type": "stream",
          "name": "stdout",
          "text": [
            "nama dosen: Hendri, S.T., M.T , mengajar: Pemrograman Python\n"
          ]
        }
      ],
      "source": [
        "class Dosen:\n",
        "    def __init__(self, nama_dosen, mata_kuliah):\n",
        "        self.nama = nama_dosen\n",
        "        self.mata_kuliah = mata_kuliah\n",
        "\n",
        "    def info_ngajar(self):\n",
        "        print(f\"nama dosen: {self.nama} , mengajar: {self.mata_kuliah}\")\n",
        "\n",
        "obj_dosen = Dosen(\"Hendri, S.T., M.T\",\"Pemrograman Python\")\n",
        "obj_dosen.info_ngajar()"
      ]
    }
  ]
}